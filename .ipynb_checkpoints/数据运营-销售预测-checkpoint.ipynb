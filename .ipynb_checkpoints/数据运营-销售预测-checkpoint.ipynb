{
 "cells": [
  {
   "cell_type": "code",
   "execution_count": 1,
   "metadata": {},
   "outputs": [],
   "source": [
    "import re                            #正则表达式  \n",
    "import numpy as np                   #数组操作和处理库\n",
    "from sklearn import linear_model     #算法模型库-线性回归\n",
    "from matplotlib import pyplot as plt #图形展示库"
   ]
  },
  {
   "cell_type": "code",
   "execution_count": null,
   "metadata": {},
   "outputs": [],
   "source": [
    "### 导入数据\n",
    "fn = open('data.txt','r')  #只读同一个路径下的数据文件\n",
    "all_data = fn.readlines()  #读取fn中所有的行记录，并保存到all_data列表中\n",
    "fn.close()                 #读完必须关闭，防止占资源并防止其他模块对其进行重命名、删除等操作"
   ]
  },
  {
   "cell_type": "markdown",
   "metadata": {},
   "source": [
    "### 上述补充解释：\n",
    " - 读取路径文件\n",
    "  - 指定相对路径：相对与某个基准目录的路径，“/”表示根目录（域名映射的硬盘目录），“./”代表当前目录，“../”代表上级（父级）目录。例如`'../data/data.txt'`是data.txt位于当前python工作目录的父级目录中的data文件夹中。\n",
    "  - 指定绝对路径：在硬盘上的真正的路径，例如`'D:/python_data/data/data.txt'`或者转义字符表示`'D:\\\\python_data\\\\data\\\\data.txt'`\n",
    " - 常用转义字符列表（参考如下）Python中反斜杠作为转义字符存在，具体可参考转移字符表格。\n",
    " - open()函数：\n",
    "\n",
    "`open(file,mode='r',buffering=-1,encoding=None,errors=None,newline=None,closefd=True,opener)`\n",
    "  - file:必须，文件路径（相对或绝对都可以）\n",
    "  - mode:可选，r-只读。rb-二进制格式打开只读，指针放在开头。w只用于写，清空，a则不清空末尾写。w+-只用于读写，从头编辑原有内容删除；若不存在则创建。wb-二进制写入（同上），一般用于非文本文件如图片等。a+-读写模式，指针放在文件末尾。\n",
    "  - newline:区分换行符；encoding:一般使用utf8\n",
    " - x.readlines()读取第一行；x.readlines(num)读取num个字符串\n",
    " - 结果显现为'28192.0\\t68980.0\\n'"
   ]
  },
  {
   "cell_type": "markdown",
   "metadata": {},
   "source": [
    "### 转义字符串表格\n",
    "|    转义字符 |        描述               |转义字符|        描述               |\n",
    "|:---------------:|:------------------:|:-----------:|:-----------------------:|\n",
    "|`\\`(行尾时)|续行符，表示一行没有结束|`\\n `        |换行符|\n",
    "|`\\\\` |反斜杠符号 |`\\v`            |垂直制表符|\n",
    "|`\\'`|单引号|`\\t` |水平制表符         |\n",
    "|`\\\"`|双引号|`\\r`        |回车符        |\n",
    "|`\\a`|响铃符，发出系统响铃 |`\\f`    |换页符       |\n",
    "|`\\b`|退格符（Backspace）|`\\o`          |八进制数代表的字符        |\n",
    "|`\\e`|转义符|`\\x`  |十六进制数代表的字符\n",
    "|`\\000`|终止符，`\\000`后的字符串全部忽略|`\\other`    |其他的字符以普通格式输出      |"
   ]
  },
  {
   "cell_type": "code",
   "execution_count": null,
   "metadata": {},
   "outputs": [],
   "source": [
    "###数据预处理\n",
    "x = []      #创建两个空列表，目的是用来存放自变量和因变量的数据        \n",
    "y = []\n",
    "for single_data in all_data:           #通过对all_data的遍历每一条数据，赋值给single_data\n",
    "    tm_data = re.split('\\t|\\n',single_data)\n",
    "'''根据readline()显现的结果\\t水平制表符，\\n回车换行结尾，即分别用\\t和\\n做分别符，对single_data进行数据分割，分割结果赋值为tmp_data'''\n",
    "    x.append(float(tmp_data[0])) #将tmp_data的第一个值追加到列表x中，即\\t前值，追加之前float设为浮点型数值\n",
    "    y.append(float(tmp_data[1])) #将tmp_data的第二个值追加到列表y中，即\\n前值，追加之前float设为浮点型数值\n",
    "x = np.array(x).reshape([100,1])#将x由列表类型转换为数组类型，数组的形状是100行1列\n",
    "y = np.array(y).reshape([100,1])#将y由列表类型转为数组，数组的形状为100行1列"
   ]
  },
  {
   "cell_type": "markdown",
   "metadata": {},
   "source": [
    "### 上述补充解释：\n",
    " - split()函数:指定分隔符对字符串进行切片，可以确定数量进行分割\n",
    " \n",
    "`str.split(str=\"\",num=string.count(str))`\n",
    "  - str表示分隔符，默认为空字符，包括空格、换行（\\n），制表符（\\t）等\n",
    "  - num表示分割次数，默认-1即分割所有，若是1即分成2份。 \n",
    " - append():表示末尾追加，此处x为空list，等价于直接赋值在List里\n",
    " - np.array()：表示对应类型转为数组"
   ]
  },
  {
   "cell_type": "code",
   "execution_count": null,
   "metadata": {},
   "outputs": [],
   "source": [
    "###数据分析（查看数据图形）\n",
    "plt.scatter(x,y)  #用散点图\n",
    "plt.show()        #展示图形\n",
    "'''一般线性关系图会有明显显示；画图用来初步判断是否可以选择对应模型进行拟合，符合就进行对应建模'''"
   ]
  },
  {
   "cell_type": "markdown",
   "metadata": {},
   "source": [
    "### 上述总结：\n",
    " - plt.scatter(x,y)表示绘制散点图，但不显现\n",
    " - plt.show()用来展示图形"
   ]
  },
  {
   "cell_type": "code",
   "execution_count": null,
   "metadata": {},
   "outputs": [],
   "source": [
    "###数据建模，采用线性回归模型进行拟合\n",
    "model = linear_model.LinearRegression()#创造一个模型对象，后续所有操作基于该对象产生\n",
    "model.fit(x,y)              #将x,y分别作为自变量和因变量输入模型进行训练"
   ]
  },
  {
   "cell_type": "code",
   "execution_count": null,
   "metadata": {},
   "outputs": [],
   "source": [
    "###模型评估\n",
    "model_coef = model.coef_          #获取模型的自变量的系数并赋值为model_coef\n",
    "model_intercept = model.intercept_#获取模型的截距并赋值为model_intercept\n",
    "r2 = model.score(x,y)             #获取模型的决定系数R的平方\n",
    "'''线性回归方程：y = model_coef*x + model_intercept;决定系数R的平方越接近1，拟合效果越好'''"
   ]
  },
  {
   "cell_type": "code",
   "execution_count": null,
   "metadata": {},
   "outputs": [],
   "source": [
    "###销售预测:上述取得的方程应用\n",
    "try:                                   #对输入的进行判定，是整型数值，则继续模型\n",
    "    new_x = input(\"请输入促销费用：\")  #先输入自变量，此处为单个数值\n",
    "    new_x = int(new_x)\n",
    "except ValueError as e:                #输入格式有误，则显示输入有误\n",
    "    print(\"输入有误\")\n",
    "else:                                  #输入格式正确，进行预测\n",
    "    pre_y = model.predict(new_x)       #对new_x输入模型进行预测，预测结果赋值为pre_y\n",
    "    print(round(pre_y,0))              #输出预测结果,round规定小数点个数,建议Int()向下取整"
   ]
  },
  {
   "cell_type": "markdown",
   "metadata": {},
   "source": [
    "### 上述总结：\n",
    " - try - except - else是对避免输入或者可能存的错误的提示，前期基本保障\n",
    " - model.predict():对于线性回归单个自变量或者向量时，直接代入，计算出对应的预测值\n",
    " - round(num,n):规定小数点后面几位，再四舍五入\n",
    " - int()和floor()都是向下取整\n",
    " - math.modf(num)分别取出小数部分和整数部分\n",
    " - print保留小数方法：\n",
    " \n",
    " `print('%.1f'&(10/3))`\n",
    " 保留一位小数"
   ]
  },
  {
   "cell_type": "code",
   "execution_count": 11,
   "metadata": {},
   "outputs": [
    {
     "name": "stdout",
     "output_type": "stream",
     "text": [
      "(0.5, 4.0)\n"
     ]
    }
   ],
   "source": [
    "import math\n",
    "print(math.modf(4.5))"
   ]
  },
  {
   "cell_type": "code",
   "execution_count": 12,
   "metadata": {},
   "outputs": [
    {
     "name": "stdout",
     "output_type": "stream",
     "text": [
      "3.333\n"
     ]
    }
   ],
   "source": [
    "print('%.3f'%(10/3))"
   ]
  },
  {
   "cell_type": "markdown",
   "metadata": {},
   "source": [
    "## 知识点梳理\n",
    "1. 正则\n",
    "2. 线性回归模型\n",
    " - 参数\n",
    " - 原理\n",
    " - 应用面\n",
    " - 优缺点\n",
    "3. Matplotlib画图\n",
    "4. 其它函数应用\n",
    " - open()\n",
    " - split()\n",
    " - append()\n",
    " - np.array()\n",
    " - readlines()\n",
    " - reshape()\n",
    " - round()\n",
    " - int()&floor()\n",
    " - math.modf()\n",
    " - print('%1.f'%())& print(format(,'.1f'))"
   ]
  },
  {
   "cell_type": "code",
   "execution_count": null,
   "metadata": {},
   "outputs": [],
   "source": []
  }
 ],
 "metadata": {
  "kernelspec": {
   "display_name": "Python 3",
   "language": "python",
   "name": "python3"
  },
  "language_info": {
   "codemirror_mode": {
    "name": "ipython",
    "version": 3
   },
   "file_extension": ".py",
   "mimetype": "text/x-python",
   "name": "python",
   "nbconvert_exporter": "python",
   "pygments_lexer": "ipython3",
   "version": "3.7.3"
  }
 },
 "nbformat": 4,
 "nbformat_minor": 4
}
